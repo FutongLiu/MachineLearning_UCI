{
 "cells": [
  {
   "cell_type": "markdown",
   "metadata": {},
   "source": [
    "\n",
    "<center><h1>Activity recognition with healthy older people</h1></center>\n",
    "<center><h3>Conditional random field, sklearn-crfsuite</h3></center>\n",
    "\n",
    "1. The activity recognition project uses publically available data on [UCI](https://archive.ics.uci.edu/ml/datasets/Activity+recognition+with+healthy+older+people+using+a+batteryless+wearable+sensor).\n",
    "2. Please refer the paper [Shinmoto Torres, R. L. et, al. In 2013 IEEE International Conference on RFID (pp. 191-198)](http://alansonsample.com/publications/docs/2013%20-%20IEEERFID%20-%20Sensor%20enabled%20wearable%20RFID%20technology%20for%20mitigating%20the%20risk%20of%20falls%20near%20beds.pdf) for the data collection information.\n",
    "3. Conditional random field (CRF) model is used for this sequential classification problem, the Python machine learning package is available as [sklearn-crfsuite](https://sklearn-crfsuite.readthedocs.io/en/latest/)."
   ]
  },
  {
   "cell_type": "markdown",
   "metadata": {},
   "source": [
    "## 1. Import library"
   ]
  },
  {
   "cell_type": "code",
   "execution_count": 1,
   "metadata": {},
   "outputs": [],
   "source": [
    "import numpy as np\n",
    "import pandas as pd\n",
    "import os\n",
    "from collections import Counter\n",
    "\n",
    "import matplotlib.pyplot as plt\n",
    "%matplotlib inline"
   ]
  },
  {
   "cell_type": "code",
   "execution_count": 2,
   "metadata": {},
   "outputs": [],
   "source": [
    "from  itertools  import chain\n",
    "\n",
    "import nltk\n",
    "import sklearn\n",
    "import scipy.stats\n",
    "from sklearn.metrics import make_scorer\n",
    "from sklearn.model_selection import cross_val_score\n",
    "from sklearn.model_selection import RandomizedSearchCV\n",
    "from sklearn.model_selection import GridSearchCV\n",
    "from sklearn.model_selection import train_test_split\n",
    "\n",
    "import sklearn_crfsuite\n",
    "from sklearn_crfsuite import scorers\n",
    "from sklearn_crfsuite import metrics"
   ]
  },
  {
   "cell_type": "markdown",
   "metadata": {},
   "source": [
    "## 2. Read data\n",
    "Function \"df2feature_label\" is used to convert pandas dataframe to sklearn_crfsuite CRF model data format. "
   ]
  },
  {
   "cell_type": "code",
   "execution_count": 3,
   "metadata": {},
   "outputs": [],
   "source": [
    "def df2feature_label(df, interval=10, n=8):\n",
    "    \"\"\"\n",
    "    arguments:\n",
    "        df: pandas dataframe\n",
    "        interval: time difference between observations x_t and it prior x_t-1\n",
    "        n: the number of observations in one sequence\n",
    "            the selection of interval and n will influence the model performance\n",
    "    return:\n",
    "        X, y: the data format for the sklearn_crfsuite CRF model\n",
    "    \"\"\"\n",
    "    \n",
    "    duration = df[\"Time\"].max()\n",
    "    X = []\n",
    "    y = []\n",
    "    \n",
    "    for i in range(int(np.floor(duration/interval)) + 1):\n",
    "        features = []\n",
    "        labels = []\n",
    "        for index, row in df.iterrows():\n",
    "            \n",
    "            feature = {\n",
    "#                 \"time\": row[\"Time\"], ## used to check function acturacy\n",
    "                \"Frontal G\": row[\"Frontal G\"],\n",
    "                \"Vertical G\": row[\"Vertical G\"],\n",
    "                \"Lateral G\": row[\"Lateral G\"],\n",
    "                \"Antenna ID\": row[\"Antenna ID\"],\n",
    "                \"RSSI\": row[\"RSSI\"],\n",
    "                \"Sine(body tilting angle)\": row[\"Sine(body tilting angle)\"]\n",
    "            }\n",
    "            label = row[\"Activity\"]\n",
    "                \n",
    "            if row[\"Time\"] >= i*interval and row[\"Time\"] < (i+1)*interval:\n",
    "                features.append(feature)\n",
    "                labels.append(label)\n",
    "                \n",
    "        if len(features) > 0: \n",
    "            X.append(features[0])\n",
    "            y.append(labels[0])\n",
    "        \n",
    "    X = [X[i:i+n] for i in range(0, len(X), n)]\n",
    "    y = [y[i:i+n] for i in range(0, len(y), n)]\n",
    "    \n",
    "    return X, y"
   ]
  },
  {
   "cell_type": "code",
   "execution_count": 4,
   "metadata": {},
   "outputs": [
    {
     "name": "stdout",
     "output_type": "stream",
     "text": [
      "Wall time: 4min 47s\n"
     ]
    }
   ],
   "source": [
    "%%time\n",
    "\n",
    "directory = os.fsencode(\".\\Datasets_Healthy_Older_People\\S1_Dataset\")\n",
    "columns = [\"Time\", \"Frontal G\", \"Vertical G\", \"Lateral G\", \"Antenna ID\", \"RSSI\", \"Phase\", \"Frequency\", \n",
    "           \"Activity\"]\n",
    "activity = {1: \"sit on bed\", 2 : \"out of bed\", 3: \"lying on bed\", 4: \"out of bed\"}\n",
    "##Label of activity, 1: sit on bed, 2: sit on chair, 3: lying, 4: ambulating \n",
    "\n",
    "X = []\n",
    "y = []\n",
    "for file in os.listdir(directory):\n",
    "    filename = os.fsdecode(file)\n",
    "    ## loop through all the subjects' data file, and read them to X, y    \n",
    "    if not filename.endswith(\".txt\"):\n",
    "        path = os.fsdecode(os.path.join(directory, file))\n",
    "        df = pd.read_csv(path, header=None, names=columns)\n",
    "        df[\"Sine(body tilting angle)\"] = np.sin(np.arctan(df[\"Frontal G\"]/df[\"Vertical G\"]))\n",
    "        df.replace({\"Activity\": activity}, inplace=True)\n",
    "        \n",
    "        X_i, y_i = df2feature_label(df, interval=10, n=8)\n",
    "        X += X_i\n",
    "        y += y_i"
   ]
  },
  {
   "cell_type": "code",
   "execution_count": 5,
   "metadata": {},
   "outputs": [
    {
     "data": {
      "text/plain": [
       "[{'Antenna ID': 1,\n",
       "  'Frontal G': 0.025796,\n",
       "  'Lateral G': -0.16192,\n",
       "  'RSSI': -46.5,\n",
       "  'Sine(body tilting angle)': 0.024732050846430806,\n",
       "  'Vertical G': 1.0427},\n",
       " {'Antenna ID': 2,\n",
       "  'Frontal G': 0.5534399999999999,\n",
       "  'Lateral G': 0.031928,\n",
       "  'RSSI': -57.5,\n",
       "  'Sine(body tilting angle)': 0.5266222218437318,\n",
       "  'Vertical G': 0.89339},\n",
       " {'Antenna ID': 2,\n",
       "  'Frontal G': 0.5534399999999999,\n",
       "  'Lateral G': 0.020525,\n",
       "  'RSSI': -57.0,\n",
       "  'Sine(body tilting angle)': 0.5266222218437318,\n",
       "  'Vertical G': 0.89339},\n",
       " {'Antenna ID': 2,\n",
       "  'Frontal G': 0.5534399999999999,\n",
       "  'Lateral G': 0.020525,\n",
       "  'RSSI': -58.0,\n",
       "  'Sine(body tilting angle)': 0.5266222218437318,\n",
       "  'Vertical G': 0.89339},\n",
       " {'Antenna ID': 2,\n",
       "  'Frontal G': 0.7176,\n",
       "  'Lateral G': 0.08894400000000001,\n",
       "  'RSSI': -57.0,\n",
       "  'Sine(body tilting angle)': 0.6462142821642965,\n",
       "  'Vertical G': 0.84746},\n",
       " {'Antenna ID': 2,\n",
       "  'Frontal G': 0.8934799999999999,\n",
       "  'Lateral G': 0.054735,\n",
       "  'RSSI': -58.0,\n",
       "  'Sine(body tilting angle)': 0.7684143976010124,\n",
       "  'Vertical G': 0.74411},\n",
       " {'Antenna ID': 2,\n",
       "  'Frontal G': 0.77622,\n",
       "  'Lateral G': -0.013684,\n",
       "  'RSSI': -58.0,\n",
       "  'Sine(body tilting angle)': 0.7008402956022344,\n",
       "  'Vertical G': 0.79004},\n",
       " {'Antenna ID': 2,\n",
       "  'Frontal G': 0.58862,\n",
       "  'Lateral G': -0.11631,\n",
       "  'RSSI': -57.5,\n",
       "  'Sine(body tilting angle)': 0.5601830040350653,\n",
       "  'Vertical G': 0.8704200000000001}]"
      ]
     },
     "execution_count": 5,
     "metadata": {},
     "output_type": "execute_result"
    }
   ],
   "source": [
    "## check input data format\n",
    "X[22]"
   ]
  },
  {
   "cell_type": "markdown",
   "metadata": {},
   "source": [
    "## 3. Training CRF model"
   ]
  },
  {
   "cell_type": "code",
   "execution_count": 6,
   "metadata": {},
   "outputs": [],
   "source": [
    "X_train, X_test, y_train, y_test = train_test_split(X, y, test_size=0.33)"
   ]
  },
  {
   "cell_type": "code",
   "execution_count": 7,
   "metadata": {},
   "outputs": [],
   "source": [
    "crf = sklearn_crfsuite.CRF(\n",
    "    algorithm='lbfgs', \n",
    "    c1=0.1, \n",
    "    c2=0.1, \n",
    "    max_iterations=100, \n",
    "    all_possible_transitions=True\n",
    ")"
   ]
  },
  {
   "cell_type": "code",
   "execution_count": 8,
   "metadata": {},
   "outputs": [
    {
     "name": "stdout",
     "output_type": "stream",
     "text": [
      "Wall time: 87.8 ms\n"
     ]
    },
    {
     "data": {
      "text/plain": [
       "CRF(algorithm='lbfgs', all_possible_states=None,\n",
       "  all_possible_transitions=True, averaging=None, c=None, c1=0.1, c2=0.1,\n",
       "  calibration_candidates=None, calibration_eta=None,\n",
       "  calibration_max_trials=None, calibration_rate=None,\n",
       "  calibration_samples=None, delta=None, epsilon=None, error_sensitive=None,\n",
       "  gamma=None, keep_tempfiles=None, linesearch=None, max_iterations=100,\n",
       "  max_linesearch=None, min_freq=None, model_filename=None,\n",
       "  num_memories=None, pa_type=None, period=None, trainer_cls=None,\n",
       "  variance=None, verbose=False)"
      ]
     },
     "execution_count": 8,
     "metadata": {},
     "output_type": "execute_result"
    }
   ],
   "source": [
    "%%time\n",
    "crf.fit(X_train, y_train)"
   ]
  },
  {
   "cell_type": "markdown",
   "metadata": {},
   "source": [
    "### 3.1 Model evaluation"
   ]
  },
  {
   "cell_type": "code",
   "execution_count": 9,
   "metadata": {},
   "outputs": [],
   "source": [
    "y_pred = crf.predict(X_test)"
   ]
  },
  {
   "cell_type": "code",
   "execution_count": 10,
   "metadata": {},
   "outputs": [],
   "source": [
    "labels = list(crf.classes_)"
   ]
  },
  {
   "cell_type": "code",
   "execution_count": 11,
   "metadata": {},
   "outputs": [
    {
     "data": {
      "text/plain": [
       "0.81628790253294103"
      ]
     },
     "execution_count": 11,
     "metadata": {},
     "output_type": "execute_result"
    }
   ],
   "source": [
    "metrics.flat_f1_score(y_test, y_pred, average='weighted', labels=labels)"
   ]
  },
  {
   "cell_type": "code",
   "execution_count": 12,
   "metadata": {},
   "outputs": [
    {
     "name": "stdout",
     "output_type": "stream",
     "text": [
      "              precision    recall  f1-score   support\n",
      "\n",
      "lying on bed      0.987     0.991     0.989       225\n",
      "  out of bed      0.700     0.830     0.759       188\n",
      "  sit on bed      0.731     0.561     0.635       155\n",
      "\n",
      " avg / total      0.822     0.820     0.816       568\n",
      "\n"
     ]
    }
   ],
   "source": [
    "print(metrics.flat_classification_report(y_test, y_pred, digits=3))"
   ]
  },
  {
   "cell_type": "markdown",
   "metadata": {},
   "source": [
    "## 4. Hyperparameter optimization"
   ]
  },
  {
   "cell_type": "code",
   "execution_count": 14,
   "metadata": {},
   "outputs": [],
   "source": [
    "crf = sklearn_crfsuite.CRF(\n",
    "    algorithm = \"lbfgs\",\n",
    "    max_iterations=100,\n",
    "    all_possible_transitions=True\n",
    ")"
   ]
  },
  {
   "cell_type": "code",
   "execution_count": 15,
   "metadata": {},
   "outputs": [],
   "source": [
    "params = {\n",
    "    \"c1\": scipy.stats.expon(scale=0.5),\n",
    "    \"c2\": scipy.stats.expon(scale=0.05)   \n",
    "}"
   ]
  },
  {
   "cell_type": "code",
   "execution_count": 16,
   "metadata": {},
   "outputs": [],
   "source": [
    "f1_scorer = make_scorer(metrics.flat_f1_score,average='weighted', labels=labels)"
   ]
  },
  {
   "cell_type": "code",
   "execution_count": 17,
   "metadata": {},
   "outputs": [],
   "source": [
    "rs = RandomizedSearchCV(crf, param_distributions=params, cv=3, n_iter=50, \n",
    "                        verbose=1, scoring=f1_scorer, return_train_score=True)"
   ]
  },
  {
   "cell_type": "code",
   "execution_count": 18,
   "metadata": {},
   "outputs": [
    {
     "name": "stdout",
     "output_type": "stream",
     "text": [
      "Fitting 3 folds for each of 50 candidates, totalling 150 fits\n"
     ]
    },
    {
     "name": "stderr",
     "output_type": "stream",
     "text": [
      "[Parallel(n_jobs=1)]: Done 150 out of 150 | elapsed:    8.3s finished\n"
     ]
    },
    {
     "data": {
      "text/plain": [
       "RandomizedSearchCV(cv=3, error_score='raise',\n",
       "          estimator=CRF(algorithm='lbfgs', all_possible_states=None,\n",
       "  all_possible_transitions=True, averaging=None, c=None, c1=None, c2=None,\n",
       "  calibration_candidates=None, calibration_eta=None,\n",
       "  calibration_max_trials=None, calibration_rate=None,\n",
       "  calibration_samples=None, delta=None, epsilon=None, error...e,\n",
       "  num_memories=None, pa_type=None, period=None, trainer_cls=None,\n",
       "  variance=None, verbose=False),\n",
       "          fit_params=None, iid=True, n_iter=50, n_jobs=1,\n",
       "          param_distributions={'c1': <scipy.stats._distn_infrastructure.rv_frozen object at 0x000002412F22C8D0>, 'c2': <scipy.stats._distn_infrastructure.rv_frozen object at 0x000002412F22CE80>},\n",
       "          pre_dispatch='2*n_jobs', random_state=None, refit=True,\n",
       "          return_train_score=True,\n",
       "          scoring=make_scorer(flat_f1_score, average=weighted, labels=['sit on bed', 'lying on bed', 'out of bed']),\n",
       "          verbose=1)"
      ]
     },
     "execution_count": 18,
     "metadata": {},
     "output_type": "execute_result"
    }
   ],
   "source": [
    "rs.fit(X_train, y_train)"
   ]
  },
  {
   "cell_type": "markdown",
   "metadata": {},
   "source": [
    "### 4.1 Best result"
   ]
  },
  {
   "cell_type": "code",
   "execution_count": 19,
   "metadata": {},
   "outputs": [
    {
     "name": "stdout",
     "output_type": "stream",
     "text": [
      "best params: {'c1': 1.6600229064661627, 'c2': 0.081819055585807751}\n",
      "best CV score: 0.76753415381\n",
      "model size: 0.01M\n"
     ]
    }
   ],
   "source": [
    "print('best params:', rs.best_params_)\n",
    "print('best CV score:', rs.best_score_)\n",
    "print('model size: {:0.2f}M'.format(rs.best_estimator_.size_ / 1000000))"
   ]
  },
  {
   "cell_type": "markdown",
   "metadata": {},
   "source": [
    "### 4.2 Best estimater on test data"
   ]
  },
  {
   "cell_type": "code",
   "execution_count": 20,
   "metadata": {},
   "outputs": [],
   "source": [
    "crf_best = rs.best_estimator_"
   ]
  },
  {
   "cell_type": "code",
   "execution_count": 21,
   "metadata": {},
   "outputs": [],
   "source": [
    "y_pred = crf_best.predict(X_test)"
   ]
  },
  {
   "cell_type": "code",
   "execution_count": 22,
   "metadata": {},
   "outputs": [
    {
     "name": "stdout",
     "output_type": "stream",
     "text": [
      "              precision    recall  f1-score   support\n",
      "\n",
      "lying on bed      0.987     0.991     0.989       225\n",
      "  out of bed      0.688     0.729     0.708       188\n",
      "  sit on bed      0.636     0.587     0.611       155\n",
      "\n",
      " avg / total      0.792     0.794     0.793       568\n",
      "\n"
     ]
    }
   ],
   "source": [
    "print(metrics.flat_classification_report(y_test, y_pred, digits=3))"
   ]
  },
  {
   "cell_type": "markdown",
   "metadata": {},
   "source": [
    "## 5 Check what CRF classifier learned"
   ]
  },
  {
   "cell_type": "markdown",
   "metadata": {},
   "source": [
    "### 5.1 Check parameter space\n",
    "Check which c1 and c2 values are used in random hyperparameter search, cv score is maped to colors."
   ]
  },
  {
   "cell_type": "code",
   "execution_count": 23,
   "metadata": {},
   "outputs": [],
   "source": [
    "x = [s[\"c1\"] for s in rs.cv_results_[\"params\"]]\n",
    "y = [s[\"c2\"] for s in rs.cv_results_[\"params\"]]\n",
    "cv = rs.cv_results_[\"mean_test_score\"].tolist()"
   ]
  },
  {
   "cell_type": "code",
   "execution_count": 24,
   "metadata": {},
   "outputs": [
    {
     "data": {
      "image/png": "[encoded data removed]",
      "text/plain": [
       "<matplotlib.figure.Figure at 0x2412f22cc88>"
      ]
     },
     "metadata": {},
     "output_type": "display_data"
    }
   ],
   "source": [
    "plt.style.use('ggplot')\n",
    "plt.figure(figsize=(8,6))\n",
    "\n",
    "plt.yscale('log')\n",
    "plt.xscale('log')\n",
    "plt.xlabel('c1')\n",
    "plt.ylabel('c2')\n",
    "plt.title(\"Hyperparameter Search CV Results (min={:0.3}, max={:0.3})\".format(min(cv), max(cv)))\n",
    "\n",
    "plt.scatter(x, y, c=cv, s=80, alpha=0.9, edgecolors=\"black\")\n",
    "plt.colorbar()\n",
    "plt.show()"
   ]
  },
  {
   "cell_type": "markdown",
   "metadata": {},
   "source": [
    "### 5.2 Check per-class transition"
   ]
  },
  {
   "cell_type": "code",
   "execution_count": 25,
   "metadata": {},
   "outputs": [
    {
     "name": "stdout",
     "output_type": "stream",
     "text": [
      "Top likely transitions:\n",
      "out of bed    -> out of bed      2.410660\n",
      "sit on bed    -> sit on bed      2.013236\n",
      "lying on bed  -> lying on bed    0.970545\n",
      "sit on bed    -> lying on bed    0.072984\n",
      "lying on bed  -> sit on bed      0.028053\n",
      "lying on bed  -> out of bed      -0.078369\n",
      "sit on bed    -> out of bed      -0.220270\n",
      "out of bed    -> lying on bed    -0.447580\n"
     ]
    }
   ],
   "source": [
    "def print_transitions(trans_features):\n",
    "    for (label_from, label_to), weight in trans_features:\n",
    "        print(\"%-13s -> %-15s %0.6f\" % (label_from, label_to, weight))\n",
    "\n",
    "print(\"Top likely transitions:\")\n",
    "print_transitions(Counter(crf_best.transition_features_).most_common())\n",
    "\n",
    "# print(\"\\nTop unlikely transitions:\")\n",
    "# print_transitions(Counter(crf_best.transition_features_).most_common()[: : -1])"
   ]
  },
  {
   "cell_type": "markdown",
   "metadata": {},
   "source": [
    "### 5.3 Check the state features"
   ]
  },
  {
   "cell_type": "code",
   "execution_count": 26,
   "metadata": {},
   "outputs": [
    {
     "name": "stdout",
     "output_type": "stream",
     "text": [
      "sit on bed      Vertical G                      4.5720 \n",
      "out of bed      Vertical G                      4.4683 \n",
      "lying on bed    Frontal G                       2.9835 \n",
      "lying on bed    Lateral G                       1.4497 \n",
      "sit on bed      Sine(body tilting angle)        0.8315 \n",
      "out of bed      Sine(body tilting angle)        0.6987 \n",
      "lying on bed    Antenna ID                      -0.1083 \n",
      "sit on bed      Antenna ID                      -0.1667 \n",
      "out of bed      Lateral G                       -0.2273 \n",
      "out of bed      Antenna ID                      -0.2946 \n",
      "out of bed      Frontal G                       -0.7373 \n",
      "sit on bed      Frontal G                       -1.0255 \n"
     ]
    }
   ],
   "source": [
    "def print_state_features(state_features):\n",
    "    for (attr, label), weight in state_features:\n",
    "        print(\"%-14s  %-30s  %0.4f \" % (label, attr, weight))\n",
    "\n",
    "print_state_features(Counter(crf_best.state_features_).most_common())"
   ]
  },
  {
   "cell_type": "code",
   "execution_count": null,
   "metadata": {},
   "outputs": [],
   "source": []
  }
 ],
 "metadata": {
  "kernelspec": {
   "display_name": "Python 3",
   "language": "python",
   "name": "python3"
  },
  "language_info": {
   "codemirror_mode": {
    "name": "ipython",
    "version": 3
   },
   "file_extension": ".py",
   "mimetype": "text/x-python",
   "name": "python",
   "nbconvert_exporter": "python",
   "pygments_lexer": "ipython3",
   "version": "3.6.3"
  }
 },
 "nbformat": 4,
 "nbformat_minor": 2
}
